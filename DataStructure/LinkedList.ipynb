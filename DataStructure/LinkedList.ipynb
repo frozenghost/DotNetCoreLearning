{
 "cells": [
  {
   "cell_type": "markdown",
   "metadata": {
    "dotnet_interactive": {
     "language": "csharp"
    },
    "polyglot_notebook": {
     "kernelName": "csharp"
    }
   },
   "source": []
  },
  {
   "cell_type": "code",
   "execution_count": 8,
   "metadata": {
    "dotnet_interactive": {
     "language": "csharp"
    },
    "polyglot_notebook": {
     "kernelName": "csharp"
    },
    "vscode": {
     "languageId": "polyglot-notebook"
    }
   },
   "outputs": [
    {
     "name": "stdout",
     "output_type": "stream",
     "text": [
      "00:00:00.0009056\n",
      "00:00:00.0059119\n"
     ]
    }
   ],
   "source": [
    "using System.Diagnostics;\n",
    "\n",
    "// Test List and LinkedList in .net\n",
    "List<LinkedListNode<int>> list = new List<LinkedListNode<int>>();\n",
    "LinkedList<int> linkedList = new LinkedList<int>();\n",
    "\n",
    "var watch = Stopwatch.StartNew();\n",
    "for(int i = 0; i < 10000000; i++)\n",
    "{\n",
    "    list.Add(new LinkedListNode<int>(i));\n",
    "}\n",
    "watch.Stop();\n",
    "Console.WriteLine(watch.Elapsed / 1000);\n",
    "\n",
    "watch = Stopwatch.StartNew();\n",
    "for(int i = 0; i < 10000000; i++)\n",
    "{\n",
    "    linkedList.AddFirst(new LinkedListNode<int>(i));\n",
    "}\n",
    "watch.Stop();\n",
    "Console.WriteLine(watch.Elapsed / 1000)\n",
    "\n"
   ]
  }
 ],
 "metadata": {
  "kernelspec": {
   "display_name": ".NET (C#)",
   "language": "C#",
   "name": ".net-csharp"
  },
  "polyglot_notebook": {
   "kernelInfo": {
    "defaultKernelName": "csharp",
    "items": [
     {
      "aliases": [
       "c#",
       "C#"
      ],
      "languageName": "C#",
      "name": "csharp"
     },
     {
      "aliases": [],
      "name": ".NET"
     },
     {
      "aliases": [
       "frontend"
      ],
      "name": "vscode"
     },
     {
      "aliases": [
       "f#",
       "F#"
      ],
      "languageName": "F#",
      "name": "fsharp"
     },
     {
      "aliases": [],
      "languageName": "HTML",
      "name": "html"
     },
     {
      "aliases": [],
      "languageName": "KQL",
      "name": "kql"
     },
     {
      "aliases": [],
      "languageName": "Mermaid",
      "name": "mermaid"
     },
     {
      "aliases": [
       "powershell"
      ],
      "languageName": "PowerShell",
      "name": "pwsh"
     },
     {
      "aliases": [],
      "languageName": "SQL",
      "name": "sql"
     },
     {
      "aliases": [],
      "name": "value"
     },
     {
      "aliases": [
       "js"
      ],
      "languageName": "JavaScript",
      "name": "javascript"
     },
     {
      "aliases": [],
      "name": "webview"
     }
    ]
   }
  }
 },
 "nbformat": 4,
 "nbformat_minor": 2
}
