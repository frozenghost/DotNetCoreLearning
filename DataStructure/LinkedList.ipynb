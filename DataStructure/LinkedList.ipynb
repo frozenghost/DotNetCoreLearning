{
 "cells": [
  {
   "cell_type": "markdown",
   "metadata": {
    "dotnet_interactive": {
     "language": "csharp"
    },
    "polyglot_notebook": {
     "kernelName": "csharp"
    }
   },
   "source": []
  },
  {
   "cell_type": "code",
   "execution_count": 59,
   "metadata": {
    "dotnet_interactive": {
     "language": "csharp"
    },
    "polyglot_notebook": {
     "kernelName": "csharp"
    },
    "vscode": {
     "languageId": "polyglot-notebook"
    }
   },
   "outputs": [
    {
     "name": "stdout",
     "output_type": "stream",
     "text": [
      "00:00:00.0000418\n",
      "00:00:00.0000911\n"
     ]
    }
   ],
   "source": [
    "using System.Diagnostics;\n",
    "\n",
    "// Test List and LinkedList in .net\n",
    "List<int> list = new List<int>();\n",
    "LinkedList<int> linkedList = new LinkedList<int>();\n",
    "\n",
    "var watch = Stopwatch.StartNew();\n",
    "for(int i = 0; i < 10000000; i++)\n",
    "{\n",
    "    list.Add(i);\n",
    "}\n",
    "watch.Stop();\n",
    "Console.WriteLine(watch.Elapsed / 1000);\n",
    "\n",
    "watch = Stopwatch.StartNew();\n",
    "for(int i = 0; i < 10000000; i++)\n",
    "{\n",
    "    linkedList.Append(i);\n",
    "}\n",
    "watch.Stop();\n",
    "Console.WriteLine(watch.Elapsed / 1000)\n",
    "\n"
   ]
  }
 ],
 "metadata": {
  "kernelspec": {
   "display_name": ".NET (C#)",
   "language": "C#",
   "name": ".net-csharp"
  },
  "polyglot_notebook": {
   "kernelInfo": {
    "defaultKernelName": "csharp",
    "items": [
     {
      "aliases": [
       "c#",
       "C#"
      ],
      "languageName": "C#",
      "name": "csharp"
     },
     {
      "aliases": [],
      "languageName": null,
      "name": ".NET"
     },
     {
      "aliases": [
       "frontend"
      ],
      "languageName": null,
      "name": "vscode"
     }
    ]
   }
  }
 },
 "nbformat": 4,
 "nbformat_minor": 2
}
