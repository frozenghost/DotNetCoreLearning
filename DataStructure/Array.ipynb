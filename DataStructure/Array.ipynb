{
 "cells": [
  {
   "attachments": {},
   "cell_type": "markdown",
   "metadata": {},
   "source": [
    "# 线性表\n",
    "## 数组\n",
    "\n",
    "数组（Array）是一种线性表数据结构。它用一组连续的内存空间，来存储一组具有相同类型的数据。\n",
    "\n",
    "1. 线性表\n",
    "   线性表就是数据排成像一条线一样的结构。\n",
    "   常见的线性表结构：数组，链表、队列、栈等。\n",
    "\n",
    "2. 连续的内存空间和相同类型的数据\n",
    "\n",
    "优点：两限制使得具有随机访问的特性\n",
    "缺点：删除，插入数据效率低\n",
    "\n",
    "数组怎么根据下标随机访问的？\n",
    "\n",
    "通过寻址公式，计算出该元素存储的内存地址：\n",
    "a[i]\\_address = base_address + i \\* data_type_size\n",
    "\n",
    "为何数组插入和删除低效\n",
    "\n",
    "插入：\n",
    "若有一元素想往 int[n]的第 k 个位置插入数据，需要在 k-n 的位置往后移。\n",
    "最好情况时间复杂度 O(1)\n",
    "最坏情况复杂度为 O(n)\n",
    "平均复杂度为 O(n)\n",
    "\n",
    "如果数组中的数据不是有序的，也就是无规律的情况下，可以直接把第 k 个位置上的数据移到最后，然后将插入的数据直接放在第 k 个位置上。\n",
    "\n",
    "这样时间复杂度就将为 O（1）了。\n",
    "\n",
    "删除：\n",
    "与插入类似，为了保持内存的连续性。\n",
    "最好情况时间复杂度 O(1)\n",
    "最坏情况复杂度为 O(n)\n",
    "平均负责度为 O(n)\n",
    "\n",
    "提高效率：将多次删除操作中集中在一起执行，可以先记录已经删除的数据，但是不进行数据迁移，而仅仅是记录，当发现没有更多空间存储时，再执行真正的删除操作。这也是 JVM 标记清除垃圾回收算法的核心思想。\n",
    "\n",
    "数组访问越界问题\n",
    "C 语言中的数据越界是一种未决行为，一般比较难发现的逻辑错误。相比之下，Java 会有越界检查。\n",
    "\n",
    "用数组还是容器？\n",
    "数组先指定了空间大小\n",
    "容器如 ArrayList 可以动态扩容。 1.希望存储基本类型数据，可以用数组 2.事先知道数据大小，并且操作简单，可以用数组 3.直观表示多维，可以用数组 4.业务开发，使用容器足够，开发框架，追求性能，首先数组。\n",
    "\n",
    "为什么数组要从 0 开始编号？\n",
    "由于数组是通过寻址公式，计算出该元素存储的内存地址：\n",
    "a[i]\\_address = base_address + i _ data_type_size\n",
    "如果数组是从 1 开始计数，那么就会变成：\n",
    "a[i]\\_address = base_address + （i-1）_ data_type_size\n",
    "\n",
    "对于 CPU 来说，多了一次减法的指令。\n",
    "当然，还有一定的历史原因。\n",
    "\n",
    "![linear](./img/img4.webp)\n",
    "\n",
    "[.net 垃圾回收工作原理](https://learn.microsoft.com/zh-cn/dotnet/standard/garbage-collection/fundamentals?source=recommendations)\n"
   ]
  }
 ],
 "metadata": {
  "kernelspec": {
   "display_name": ".NET (C#)",
   "language": "C#",
   "name": ".net-csharp"
  },
  "language_info": {
   "name": "polyglot-notebook"
  },
  "polyglot_notebook": {
   "kernelInfo": {
    "defaultKernelName": "csharp",
    "items": [
     {
      "aliases": [],
      "name": ".NET"
     },
     {
      "aliases": [
       "C#",
       "c#"
      ],
      "languageName": "C#",
      "name": "csharp"
     },
     {
      "aliases": [
       "F#",
       "f#"
      ],
      "languageName": "F#",
      "name": "fsharp"
     },
     {
      "aliases": [],
      "languageName": "HTML",
      "name": "html"
     },
     {
      "aliases": [
       "js"
      ],
      "languageName": "JavaScript",
      "name": "javascript"
     },
     {
      "aliases": [],
      "languageName": "KQL",
      "name": "kql"
     },
     {
      "aliases": [],
      "languageName": "Mermaid",
      "name": "mermaid"
     },
     {
      "aliases": [
       "powershell"
      ],
      "languageName": "PowerShell",
      "name": "pwsh"
     },
     {
      "aliases": [],
      "languageName": "SQL",
      "name": "sql"
     },
     {
      "aliases": [],
      "name": "value"
     },
     {
      "aliases": [
       "frontend"
      ],
      "name": "vscode"
     },
     {
      "aliases": [],
      "name": ".NET"
     },
     {
      "aliases": [
       "f#",
       "F#"
      ],
      "languageName": "F#",
      "name": "fsharp"
     },
     {
      "aliases": [],
      "languageName": "HTML",
      "name": "html"
     },
     {
      "aliases": [],
      "languageName": "KQL",
      "name": "kql"
     },
     {
      "aliases": [
       "powershell"
      ],
      "languageName": "PowerShell",
      "name": "pwsh"
     },
     {
      "aliases": [],
      "languageName": "SQL",
      "name": "sql"
     },
     {
      "aliases": [],
      "name": "value"
     },
     {
      "aliases": [
       "js"
      ],
      "languageName": "JavaScript",
      "name": "javascript"
     },
     {
      "aliases": [],
      "name": "webview"
     }
    ]
   }
  }
 },
 "nbformat": 4,
 "nbformat_minor": 2
}
