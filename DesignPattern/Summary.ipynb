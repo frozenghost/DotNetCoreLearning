{
 "cells": [
  {
   "cell_type": "code",
   "execution_count": null,
   "metadata": {
    "dotnet_interactive": {
     "language": "csharp"
    },
    "polyglot_notebook": {
     "kernelName": "csharp"
    }
   },
   "outputs": [],
   "source": [
    "Console.WriteLine(\"C# hello world\")"
   ]
  },
  {
   "attachments": {},
   "cell_type": "markdown",
   "metadata": {
    "dotnet_interactive": {
     "language": "csharp"
    },
    "polyglot_notebook": {
     "kernelName": "csharp"
    }
   },
   "source": [
    "为什么学习设计模式？\n",
    "1. 面试所需\n",
    "2. 告别烂代码\n",
    "3. 提高复杂代码能力\n",
    "4. 阅读框架事半功倍\n",
    "5. 成为大牛的前提\n",
    "\n",
    "代码常用的评价标准（7个）：\n",
    "可维护性、可读性、可扩展性、灵活性、简洁性、可复用性、可测试性；\n",
    "\n",
    "常用的设计原则：\n",
    "- SRP：一个类只能承担一个事情 \n",
    "- OCP：实现不可修改，但可面向扩展 \n",
    "- LSP：子类型能够替换它们的基类型 \n",
    "- ISP：抽象不持有特定逻辑，应持有实现的公有逻辑 \n",
    "- DIP：高底层不能互相依赖，应同时依赖抽象 \n",
    "- DRY：不做重复的事，不写重复类似的代码 \n",
    "- KISS：keep it simple，尽量简单的代码，让代码更容易被别人理解 \n",
    "- YAGNI：you ain't gonna need it，只着眼必需的功能，不添加认为可能需要的功能 \n",
    "- LOD：类应减少被外界直接访问的机会，类与类之间避免直接通信\n",
    "\n",
    "![img1](./img/img1.png)"
   ]
  },
  {
   "attachments": {},
   "cell_type": "markdown",
   "metadata": {
    "dotnet_interactive": {
     "language": "csharp"
    },
    "polyglot_notebook": {
     "kernelName": "csharp"
    }
   },
   "source": [
    "- 封装：封装也叫作信息隐藏或者数据访问保护，通过暴露有限的接口供外部访问\n",
    "- 抽象：抽象讲的是如何隐藏方法的具体实现，让调用者只需要关心方法提供了哪些功能，并不需要知道这些功能是如何实现的\n",
    "- 继承：继承是用来表示类之间的 is-a 关系\n",
    "- 多态：子类可以替换父类，在实际的代码运行过程中，调用子类的方法实现\n",
    "\n",
    "- duck-typing: 只要两个类具有相同的方法，就可以实现多态，并不要求两个类之间有任何关系，这就是所谓的 duck-typing，是一些动态语言所特有的语法机制。\n",
    "\n",
    "### 封装\n",
    "\n",
    "What：隐藏信息，保护数据访问。\n",
    "How：暴露有限接口和属性，需要编程语言提供访问控制的语法。\n",
    "Why：提高代码可维护性；降低接口复杂度，提高类的易用性。\n",
    "\n",
    "### 抽象\n",
    "\n",
    "What: 隐藏具体实现，使用者只需关心功能，无需关心实现。\n",
    "How: 通过接口类或者抽象类实现，特殊语法机制非必须。\n",
    "Why: 提高代码的扩展性、维护性；降低复杂度，减少细节负担。\n",
    "\n",
    "### 继承\n",
    "\n",
    "What: 表示 is-a 关系，分为单继承和多继承。\n",
    "How: 需要编程语言提供特殊语法机制。例如 Java 的 “extends”，C++ 的 “:” 。\n",
    "Why: 解决代码复用问题。\n",
    "\n",
    "### 多态\n",
    "\n",
    "What: 子类替换父类，在运行时调用子类的实现。\n",
    "How: 需要编程语言提供特殊的语法机制。比如继承、接口类、duck-typing。\n",
    "Why: 提高代码扩展性和复用性。\n",
    "\n",
    "3W 模型的关键在于 Why，没有 Why，其它两个就没有存在的意义。从四大特性可以看出，面向对象的终极目的只有一个：可维护性。易扩展、易复用，降低复杂度等等都属于可维护性的实现方式\n"
   ]
  },
  {
   "attachments": {},
   "cell_type": "markdown",
   "metadata": {
    "dotnet_interactive": {
     "language": "csharp"
    },
    "polyglot_notebook": {
     "kernelName": "csharp"
    }
   },
   "source": [
    "- 面向过程和面向对象最基本的区别：\n",
    "  代码的组织方式不同。面向过程风格的代码被组织成了一组方法集合及其数据结构（struct User），方法和数据结构的定义是分开的。面向对象风格的代码被组织成一组类，方法和数据结构被绑定一起，定义在类中。\n",
    "\n",
    "面向对象编程相比起面向过程编程的优势主要有三个。\n",
    "\n",
    "- 对于大规模复杂程序的开发，程序的处理流程并非单一的一条主线，而是错综复杂的网状结构。面向对象编程比起面向过程编程，更能应对这种复杂类型的程序开发。\n",
    "- 面向对象编程相比面向过程编程，具有更加丰富的特性（封装、抽象、继承、多态）。利用这些特性编写出来的代码，更加易扩展、易复用、易维护。\n",
    "- 从编程语言跟机器打交道的方式的演进规律中，我们可以总结出：面向对象编程语言比起面向过程编程语言，更加人性化、更加高级、更加智能。\n",
    "\n",
    "哪些代码设计看似是面向对象，实际是面向过程的\n",
    "\n",
    "1. 滥用 getter、setter 方法\n",
    "   在设计实现类的时候，除非真的需要，否则尽量不要给属性定义 setter 方法。除此之外，尽管 getter 方法相对 setter 方法要安全些，但是如果返回的是集合容器，那也要防范集合内部数据被修改的风险。\n",
    "\n",
    "   ```java\n",
    "\n",
    "   public class ShoppingCart {\n",
    "    private int itemsCount;\n",
    "    private double totalPrice;\n",
    "    private List<ShoppingCartItem> items = new ArrayList<>();\n",
    "\n",
    "    public int getItemsCount() {\n",
    "      return this.itemsCount;\n",
    "    }\n",
    "\n",
    "    public void setItemsCount(int itemsCount) {\n",
    "      this.itemsCount = itemsCount; // 不应该定义这个setter方法，意味着数据不同步\n",
    "    }\n",
    "\n",
    "    public double getTotalPrice() {\n",
    "      return this.totalPrice;\n",
    "    }\n",
    "\n",
    "    public void setTotalPrice(double totalPrice) {\n",
    "      this.totalPrice = totalPrice; // 不应该定义这个setter方法，意味着数据不同步\n",
    "    }\n",
    "\n",
    "    public List<ShoppingCartItem> getItems() {\n",
    "      return this.items; // 不应该定义这个getter方法，意味着调用者可以修改内部数据\n",
    "    }\n",
    "\n",
    "    public void addItem(ShoppingCartItem item) {\n",
    "      items.add(item);\n",
    "      itemsCount++;\n",
    "      totalPrice += item.getPrice();\n",
    "    }\n",
    "   }\n",
    "   ```\n",
    "\n",
    "2. 滥用全局变量和全局方法\n",
    "   对于这两种类的设计，我们尽量能做到职责单一，定义一些细化的小类，比如 RedisConstants、FileUtils，而不是定义一个大而全的 Constants 类、Utils 类。除此之外，如果能将这些类中的属性和方法，划分归并到其他业务类中，那是最好不过的了，能极大地提高类的内聚性和代码的可复用性。\n",
    "3. 基于贫血模型的开发模式\n",
    "   关于这一部分，我们只讲了为什么这种开发模式是彻彻底底的面向过程编程风格的。这是因为数据和操作是分开定义在 VO/BO/Entity 和 Controler/Service/Repository 中的。\n"
   ]
  },
  {
   "attachments": {},
   "cell_type": "markdown",
   "metadata": {
    "dotnet_interactive": {
     "language": "csharp"
    },
    "polyglot_notebook": {
     "kernelName": "csharp"
    }
   },
   "source": [
    "## 接口和抽象类\n",
    "\n",
    "1. 定义：\n",
    "   抽象类：不允许实例化，只能被继承；可包含属性和方法，包含抽象方法；子类继承抽象类必须重写抽象方法。\n",
    "   接口：不允许实例化，只能被实现；不包含属性和普通方法，包含抽象方法、静态方法、default 方法；类实现接口时，必须实现抽象方法。\n",
    "2. 意义：\n",
    "   抽象类：解决复用问题，适用于 is-a 的关系。\n",
    "   接口：解决抽象问题，适用于 has-a 的关系。\n",
    "3. 应用：\n",
    "   例如：\n",
    "   解决复用问题：java 中的子类 FileInputStream 和 PipeInputStream 等继承抽象类 InputStream。重写了 read(source)方法，InputStream 中还包含其他方法，FileInputStream 继承抽象类复用了父类的其他方法。\n",
    "   解决抽象问题：抽象类 InputStream 实现了 Closeable 接口，该接口中包含 close()抽象方法。Closeable 这个接口还在很多其他类中实现了，例如 Channel，Socket 中都有 close() 关闭这个功能，但具体实现每个类又各有不同的实现，这个就是抽象。\n",
    "\n",
    "4. “基于接口而非实现编程”，这条原则的另一个表述方式，是“基于抽象而非实现编程”。后者的表述方式其实更能体现这条原则的设计初衷。我们在做软件开发的时候，一定要有抽象意识、封装意识、接口意识。越抽象、越顶层、越脱离具体某一实现的设计，越能提高代码的灵活性、扩展性、可维护性。\n",
    "5. 我们在定义接口的时候，一方面，命名要足够通用，不能包含跟具体实现相关的字眼；另一方面，与特定实现有关的方法不要定义在接口中。\n",
    "6. “基于接口而非实现编程”这条原则，不仅仅可以指导非常细节的编程开发，还能指导更加上层的架构设计、系统设计等。比如，服务端与客户端之间的“接口”设计、类库的“接口”设计。\n"
   ]
  },
  {
   "attachments": {},
   "cell_type": "markdown",
   "metadata": {
    "dotnet_interactive": {
     "language": "csharp"
    },
    "polyglot_notebook": {
     "kernelName": "csharp"
    }
   },
   "source": [
    "## 组合和继承\n",
    "\n",
    "1. 为什么不推荐使用继承？继承是面向对象的四大特性之一，用来表示类之间的 is-a 关系，可以解决代码复用的问题。虽然继承有诸多作用，但继承层次过深、过复杂，也会影响到代码的可维护性。在这种情况下，我们应该尽量少用，甚至不用继承。\n",
    "2. 组合相比继承有哪些优势？继承主要有三个作用：表示 is-a 关系，支持多态特性，代码复用。而这三个作用都可以通过组合、接口、委托三个技术手段来达成。除此之外，利用组合还能解决层次过深、过复杂的继承关系影响代码可维护性的问题。\n",
    "3. 如何判断该用组合还是继承？尽管我们鼓励多用组合少用继承，但组合也并不是完美的，继承也并非一无是处。在实际的项目开发中，我们还是要根据具体的情况，来选择该用继承还是组合。如果类之间的继承结构稳定，层次比较浅，关系不复杂，我们就可以大胆地使用继承。反之，我们就尽量使用组合来替代继承。除此之外，还有一些设计模式、特殊的应用场景，会固定使用继承或者组合。"
   ]
  }
 ],
 "metadata": {
  "kernelspec": {
   "display_name": ".NET (C#)",
   "language": "C#",
   "name": ".net-csharp"
  },
  "polyglot_notebook": {
   "kernelInfo": {
    "defaultKernelName": "csharp",
    "items": [
     {
      "aliases": [],
      "name": ".NET"
     },
     {
      "aliases": [
       "c#",
       "C#"
      ],
      "languageName": "C#",
      "name": "csharp"
     },
     {
      "aliases": [
       "f#",
       "F#"
      ],
      "languageName": "F#",
      "name": "fsharp"
     },
     {
      "aliases": [],
      "languageName": "HTML",
      "name": "html"
     },
     {
      "aliases": [
       "js"
      ],
      "languageName": "JavaScript",
      "name": "javascript"
     },
     {
      "aliases": [],
      "languageName": "KQL",
      "name": "kql"
     },
     {
      "aliases": [],
      "languageName": "Mermaid",
      "name": "mermaid"
     },
     {
      "aliases": [
       "powershell"
      ],
      "languageName": "PowerShell",
      "name": "pwsh"
     },
     {
      "aliases": [],
      "languageName": "SQL",
      "name": "sql"
     },
     {
      "aliases": [],
      "name": "value"
     },
     {
      "aliases": [
       "frontend"
      ],
      "name": "vscode"
     },
     {
      "aliases": [],
      "name": "webview"
     }
    ]
   }
  }
 },
 "nbformat": 4,
 "nbformat_minor": 2
}
